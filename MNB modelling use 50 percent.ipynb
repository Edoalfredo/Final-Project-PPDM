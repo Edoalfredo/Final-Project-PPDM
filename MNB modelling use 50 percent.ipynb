{
 "cells": [
  {
   "cell_type": "code",
   "execution_count": 11,
   "metadata": {},
   "outputs": [
    {
     "data": {
      "text/html": [
       "<div>\n",
       "<style scoped>\n",
       "    .dataframe tbody tr th:only-of-type {\n",
       "        vertical-align: middle;\n",
       "    }\n",
       "\n",
       "    .dataframe tbody tr th {\n",
       "        vertical-align: top;\n",
       "    }\n",
       "\n",
       "    .dataframe thead th {\n",
       "        text-align: right;\n",
       "    }\n",
       "</style>\n",
       "<table border=\"1\" class=\"dataframe\">\n",
       "  <thead>\n",
       "    <tr style=\"text-align: right;\">\n",
       "      <th></th>\n",
       "      <th>label</th>\n",
       "      <th>reviews</th>\n",
       "    </tr>\n",
       "  </thead>\n",
       "  <tbody>\n",
       "    <tr>\n",
       "      <th>0</th>\n",
       "      <td>1</td>\n",
       "      <td>['kemeja', 'bagus', 'banget', 'mau', 'nang ken...</td>\n",
       "    </tr>\n",
       "    <tr>\n",
       "      <th>1</th>\n",
       "      <td>0</td>\n",
       "      <td>['jahit', 'rapi cuman', 'benang', 'jahit', 'je...</td>\n",
       "    </tr>\n",
       "    <tr>\n",
       "      <th>2</th>\n",
       "      <td>0</td>\n",
       "      <td>['sesuai', 'harga', 'tipis', 'oke', 'warna', '...</td>\n",
       "    </tr>\n",
       "    <tr>\n",
       "      <th>3</th>\n",
       "      <td>1</td>\n",
       "      <td>['gila', 'sih', 'bagus', 'worth', 'it', 'lembu...</td>\n",
       "    </tr>\n",
       "    <tr>\n",
       "      <th>4</th>\n",
       "      <td>0</td>\n",
       "      <td>['kain', 'bagus', 'halus', 'buka', 'kotor', 'y...</td>\n",
       "    </tr>\n",
       "  </tbody>\n",
       "</table>\n",
       "</div>"
      ],
      "text/plain": [
       "   label                                            reviews\n",
       "0      1  ['kemeja', 'bagus', 'banget', 'mau', 'nang ken...\n",
       "1      0  ['jahit', 'rapi cuman', 'benang', 'jahit', 'je...\n",
       "2      0  ['sesuai', 'harga', 'tipis', 'oke', 'warna', '...\n",
       "3      1  ['gila', 'sih', 'bagus', 'worth', 'it', 'lembu...\n",
       "4      0  ['kain', 'bagus', 'halus', 'buka', 'kotor', 'y..."
      ]
     },
     "execution_count": 11,
     "metadata": {},
     "output_type": "execute_result"
    }
   ],
   "source": [
    "import pandas as pd \n",
    "import numpy as np\n",
    "\n",
    "reviews_data = pd.read_excel(\"reviews_Preprocessing.xlsx\", usecols=[\"Label\", \"reviews_tokens_stemmed\"])\n",
    "reviews_data.columns = [\"label\", \"reviews\"]\n",
    "\n",
    "reviews_data.head()"
   ]
  },
  {
   "cell_type": "code",
   "execution_count": 12,
   "metadata": {},
   "outputs": [
    {
     "data": {
      "text/plain": [
       "0    kemeja bagus banget mau nang kenapa tidak dari...\n",
       "1                  jahit rapi cuman benang jahit jelek\n",
       "2    sesuai harga tipis oke warna abu kalau di foto...\n",
       "3    gila sih bagus worth it lembut baju kirain tip...\n",
       "4           kain bagus halus buka kotor ya warna putih\n",
       "Name: reviews_join, dtype: object"
      ]
     },
     "execution_count": 12,
     "metadata": {},
     "output_type": "execute_result"
    }
   ],
   "source": [
    "import ast\n",
    "\n",
    "def join_text_list(texts):\n",
    "    texts = ast.literal_eval(texts)\n",
    "    return ' '.join([text for text in texts])\n",
    "reviews_data[\"reviews_join\"] = reviews_data[\"reviews\"].apply(join_text_list)\n",
    "\n",
    "reviews_data[\"reviews_join\"].head()"
   ]
  },
  {
   "cell_type": "code",
   "execution_count": 13,
   "metadata": {},
   "outputs": [
    {
     "data": {
      "text/html": [
       "<div>\n",
       "<style scoped>\n",
       "    .dataframe tbody tr th:only-of-type {\n",
       "        vertical-align: middle;\n",
       "    }\n",
       "\n",
       "    .dataframe tbody tr th {\n",
       "        vertical-align: top;\n",
       "    }\n",
       "\n",
       "    .dataframe thead th {\n",
       "        text-align: right;\n",
       "    }\n",
       "</style>\n",
       "<table border=\"1\" class=\"dataframe\">\n",
       "  <thead>\n",
       "    <tr style=\"text-align: right;\">\n",
       "      <th></th>\n",
       "      <th>label</th>\n",
       "      <th>reviews</th>\n",
       "      <th>reviews_join</th>\n",
       "    </tr>\n",
       "  </thead>\n",
       "  <tbody>\n",
       "    <tr>\n",
       "      <th>0</th>\n",
       "      <td>1</td>\n",
       "      <td>['kemeja', 'bagus', 'banget', 'mau', 'nang ken...</td>\n",
       "      <td>kemeja bagus banget mau nang kenapa tidak dari...</td>\n",
       "    </tr>\n",
       "    <tr>\n",
       "      <th>1</th>\n",
       "      <td>0</td>\n",
       "      <td>['jahit', 'rapi cuman', 'benang', 'jahit', 'je...</td>\n",
       "      <td>jahit rapi cuman benang jahit jelek</td>\n",
       "    </tr>\n",
       "    <tr>\n",
       "      <th>2</th>\n",
       "      <td>0</td>\n",
       "      <td>['sesuai', 'harga', 'tipis', 'oke', 'warna', '...</td>\n",
       "      <td>sesuai harga tipis oke warna abu kalau di foto...</td>\n",
       "    </tr>\n",
       "    <tr>\n",
       "      <th>3</th>\n",
       "      <td>1</td>\n",
       "      <td>['gila', 'sih', 'bagus', 'worth', 'it', 'lembu...</td>\n",
       "      <td>gila sih bagus worth it lembut baju kirain tip...</td>\n",
       "    </tr>\n",
       "    <tr>\n",
       "      <th>4</th>\n",
       "      <td>0</td>\n",
       "      <td>['kain', 'bagus', 'halus', 'buka', 'kotor', 'y...</td>\n",
       "      <td>kain bagus halus buka kotor ya warna putih</td>\n",
       "    </tr>\n",
       "    <tr>\n",
       "      <th>5</th>\n",
       "      <td>1</td>\n",
       "      <td>['bagus', 'deh', 'harga', 'segitu', 'kain', 't...</td>\n",
       "      <td>bagus deh harga segitu kain tidak tipis banget...</td>\n",
       "    </tr>\n",
       "    <tr>\n",
       "      <th>6</th>\n",
       "      <td>0</td>\n",
       "      <td>['harga', 'mahal', 'bahan', 'tipis', 'banget',...</td>\n",
       "      <td>harga mahal bahan tipis banget kirim warna rea...</td>\n",
       "    </tr>\n",
       "    <tr>\n",
       "      <th>7</th>\n",
       "      <td>1</td>\n",
       "      <td>['puas', 'banget', 'takut', 'jelek', 'foto', '...</td>\n",
       "      <td>puas banget takut jelek foto yearbook pas data...</td>\n",
       "    </tr>\n",
       "    <tr>\n",
       "      <th>8</th>\n",
       "      <td>0</td>\n",
       "      <td>['kecewa', 'sih', 'karena', 'pesan', 'warna', ...</td>\n",
       "      <td>kecewa sih karena pesan warna fuschia datengny...</td>\n",
       "    </tr>\n",
       "    <tr>\n",
       "      <th>9</th>\n",
       "      <td>0</td>\n",
       "      <td>['maaf', 'beri', 'bintang', 'tidak', 'sesuai',...</td>\n",
       "      <td>maaf beri bintang tidak sesuai gambar gambar t...</td>\n",
       "    </tr>\n",
       "  </tbody>\n",
       "</table>\n",
       "</div>"
      ],
      "text/plain": [
       "   label                                            reviews  \\\n",
       "0      1  ['kemeja', 'bagus', 'banget', 'mau', 'nang ken...   \n",
       "1      0  ['jahit', 'rapi cuman', 'benang', 'jahit', 'je...   \n",
       "2      0  ['sesuai', 'harga', 'tipis', 'oke', 'warna', '...   \n",
       "3      1  ['gila', 'sih', 'bagus', 'worth', 'it', 'lembu...   \n",
       "4      0  ['kain', 'bagus', 'halus', 'buka', 'kotor', 'y...   \n",
       "5      1  ['bagus', 'deh', 'harga', 'segitu', 'kain', 't...   \n",
       "6      0  ['harga', 'mahal', 'bahan', 'tipis', 'banget',...   \n",
       "7      1  ['puas', 'banget', 'takut', 'jelek', 'foto', '...   \n",
       "8      0  ['kecewa', 'sih', 'karena', 'pesan', 'warna', ...   \n",
       "9      0  ['maaf', 'beri', 'bintang', 'tidak', 'sesuai',...   \n",
       "\n",
       "                                        reviews_join  \n",
       "0  kemeja bagus banget mau nang kenapa tidak dari...  \n",
       "1                jahit rapi cuman benang jahit jelek  \n",
       "2  sesuai harga tipis oke warna abu kalau di foto...  \n",
       "3  gila sih bagus worth it lembut baju kirain tip...  \n",
       "4         kain bagus halus buka kotor ya warna putih  \n",
       "5  bagus deh harga segitu kain tidak tipis banget...  \n",
       "6  harga mahal bahan tipis banget kirim warna rea...  \n",
       "7  puas banget takut jelek foto yearbook pas data...  \n",
       "8  kecewa sih karena pesan warna fuschia datengny...  \n",
       "9  maaf beri bintang tidak sesuai gambar gambar t...  "
      ]
     },
     "execution_count": 13,
     "metadata": {},
     "output_type": "execute_result"
    }
   ],
   "source": [
    "reviews_data.head(10)"
   ]
  },
  {
   "cell_type": "code",
   "execution_count": 14,
   "metadata": {},
   "outputs": [],
   "source": [
    "label = reviews_data[\"label\"]\n",
    "text = reviews_data[\"reviews_join\"]"
   ]
  },
  {
   "cell_type": "code",
   "execution_count": 15,
   "metadata": {},
   "outputs": [],
   "source": [
    "from sklearn.feature_extraction.text import TfidfVectorizer, CountVectorizer\n",
    "from sklearn.preprocessing import normalize\n",
    "from sklearn.model_selection import train_test_split"
   ]
  },
  {
   "cell_type": "code",
   "execution_count": 16,
   "metadata": {},
   "outputs": [],
   "source": [
    "train_data, test_data, train_labels, test_labels = train_test_split(text, label, test_size=0.2, random_state=42)\n",
    "\n",
    "positive_count = (train_labels == 1).sum()\n",
    "negative_count = (train_labels == 0).sum()\n",
    "total_count = len(train_labels)\n",
    "positive_ratio = positive_count / total_count\n",
    "negative_ratio = negative_count / total_count"
   ]
  },
  {
   "cell_type": "code",
   "execution_count": 17,
   "metadata": {},
   "outputs": [],
   "source": [
    "# Perhitungan TF vector pada train set\n",
    "cvect = CountVectorizer()\n",
    "TF_vector_train = cvect.fit_transform(train_data)\n",
    "\n",
    "# Normalisasi TF vector pada train set\n",
    "normalized_TF_vector_train = normalize(TF_vector_train, norm='l1', axis=1)"
   ]
  },
  {
   "cell_type": "code",
   "execution_count": 18,
   "metadata": {},
   "outputs": [],
   "source": [
    "# Perhitungan TF vector pada test set menggunakan CountVectorizer yang sudah dilatih pada train set\n",
    "TF_vector_test = cvect.transform(test_data)\n",
    "\n",
    "# Normalisasi TF vector pada test set\n",
    "normalized_TF_vector_test = normalize(TF_vector_test, norm='l1', axis=1)"
   ]
  },
  {
   "cell_type": "code",
   "execution_count": 19,
   "metadata": {},
   "outputs": [],
   "source": [
    "from sklearn.feature_selection import SelectPercentile, chi2\n",
    "\n",
    "# Persentase fitur yang ingin dipilih setelah seleksi (50%)\n",
    "percent = 50\n",
    "\n",
    "# Menghitung jumlah fitur yang diinginkan berdasarkan persentase\n",
    "k = int(percent / 100 * normalized_TF_vector_train.shape[1])\n",
    "\n",
    "# Menerapkan seleksi fitur dengan chi-square pada train set\n",
    "selector = SelectPercentile(chi2, percentile=percent)\n",
    "tf_mat_train_selected = selector.fit_transform(normalized_TF_vector_train, train_labels)\n",
    "\n",
    "# Mengaplikasikan seleksi fitur yang sama pada test set\n",
    "tf_mat_test_selected = selector.transform(normalized_TF_vector_test)"
   ]
  },
  {
   "cell_type": "code",
   "execution_count": 20,
   "metadata": {},
   "outputs": [
    {
     "name": "stdout",
     "output_type": "stream",
     "text": [
      "Akurasi: 0.7844311377245509\n",
      "Precision: 0.9795918367346939\n",
      "Recall: 0.5783132530120482\n",
      "F1-score: 0.7272727272727273\n"
     ]
    }
   ],
   "source": [
    "from sklearn.naive_bayes import MultinomialNB\n",
    "from sklearn.metrics import accuracy_score, precision_score, recall_score, f1_score\n",
    "\n",
    "positive_count = (train_labels == 1).sum()\n",
    "negative_count = (train_labels == 0).sum()\n",
    "total_count = len(train_labels)\n",
    "positive_ratio = positive_count / total_count\n",
    "negative_ratio = negative_count / total_count\n",
    "\n",
    "# Membuat objek model Multinomial Naive Bayes dengan class_prior yang sesuai\n",
    "model = MultinomialNB(class_prior=[negative_ratio, positive_ratio])\n",
    "\n",
    "# Melatih model dengan data latih yang sudah diseleksi\n",
    "model.fit(tf_mat_train_selected, train_labels)\n",
    "\n",
    "# Melakukan prediksi pada data uji yang sudah diseleksi\n",
    "predictions = model.predict(tf_mat_test_selected)\n",
    "\n",
    "# Menghitung akurasi\n",
    "accuracy = accuracy_score(test_labels, predictions)\n",
    "print(\"Akurasi:\", accuracy)\n",
    "\n",
    "# Menghitung precision\n",
    "precision = precision_score(test_labels, predictions)\n",
    "print(\"Precision:\", precision)\n",
    "\n",
    "# Menghitung recall\n",
    "recall = recall_score(test_labels, predictions)\n",
    "print(\"Recall:\", recall)\n",
    "\n",
    "# Menghitung F1-score\n",
    "f1 = f1_score(test_labels, predictions)\n",
    "print(\"F1-score:\", f1)"
   ]
  },
  {
   "cell_type": "code",
   "execution_count": null,
   "metadata": {},
   "outputs": [],
   "source": []
  }
 ],
 "metadata": {
  "kernelspec": {
   "display_name": "Python 3",
   "language": "python",
   "name": "python3"
  },
  "language_info": {
   "codemirror_mode": {
    "name": "ipython",
    "version": 3
   },
   "file_extension": ".py",
   "mimetype": "text/x-python",
   "name": "python",
   "nbconvert_exporter": "python",
   "pygments_lexer": "ipython3",
   "version": "3.11.3"
  },
  "orig_nbformat": 4
 },
 "nbformat": 4,
 "nbformat_minor": 2
}
